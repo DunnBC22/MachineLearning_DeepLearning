{
 "cells": [
  {
   "cell_type": "markdown",
   "id": "9e62b01c",
   "metadata": {},
   "source": [
    "This Project is to demonstrate using the Scikit-Learn Principal Component Analysis (PCA) algorithm to lower the dimensionality of this data set. \n",
    "\n",
    "The data set is information relating to churn rate of bank customers. \n",
    "\n",
    "I found this data set on Kaggle using the following link: https://www.kaggle.com/santoshd3/bank-customers.\n",
    "\n",
    "The first section of this project is to import both the necessary libraries and the data (as well as have it properly labeled), as well as to do some brief Exploratory Data Analysis (in order to understand the gist of the data)."
   ]
  },
  {
   "cell_type": "code",
   "execution_count": 1,
   "id": "b8d61c16",
   "metadata": {
    "scrolled": true
   },
   "outputs": [
    {
     "name": "stdout",
     "output_type": "stream",
     "text": [
      "        CreditScore           Age        Tenure        Balance  NumOfProducts  \\\n",
      "count  10000.000000  10000.000000  10000.000000   10000.000000   10000.000000   \n",
      "mean     650.528800     38.921800      5.012800   76485.889288       1.530200   \n",
      "std       96.653299     10.487806      2.892174   62397.405202       0.581654   \n",
      "min      350.000000     18.000000      0.000000       0.000000       1.000000   \n",
      "25%      584.000000     32.000000      3.000000       0.000000       1.000000   \n",
      "50%      652.000000     37.000000      5.000000   97198.540000       1.000000   \n",
      "75%      718.000000     44.000000      7.000000  127644.240000       2.000000   \n",
      "max      850.000000     92.000000     10.000000  250898.090000       4.000000   \n",
      "\n",
      "         HasCrCard  IsActiveMember  EstimatedSalary        Exited  \n",
      "count  10000.00000    10000.000000     10000.000000  10000.000000  \n",
      "mean       0.70550        0.515100    100090.239881      0.203700  \n",
      "std        0.45584        0.499797     57510.492818      0.402769  \n",
      "min        0.00000        0.000000        11.580000      0.000000  \n",
      "25%        0.00000        0.000000     51002.110000      0.000000  \n",
      "50%        1.00000        1.000000    100193.915000      0.000000  \n",
      "75%        1.00000        1.000000    149388.247500      0.000000  \n",
      "max        1.00000        1.000000    199992.480000      1.000000  \n",
      "<class 'pandas.core.frame.DataFrame'>\n",
      "RangeIndex: 10000 entries, 0 to 9999\n",
      "Data columns (total 9 columns):\n",
      " #   Column           Non-Null Count  Dtype  \n",
      "---  ------           --------------  -----  \n",
      " 0   CreditScore      10000 non-null  int64  \n",
      " 1   Age              10000 non-null  int64  \n",
      " 2   Tenure           10000 non-null  int64  \n",
      " 3   Balance          10000 non-null  float64\n",
      " 4   NumOfProducts    10000 non-null  int64  \n",
      " 5   HasCrCard        10000 non-null  int64  \n",
      " 6   IsActiveMember   10000 non-null  int64  \n",
      " 7   EstimatedSalary  10000 non-null  float64\n",
      " 8   Exited           10000 non-null  int64  \n",
      "dtypes: float64(2), int64(7)\n",
      "memory usage: 703.2 KB\n",
      "None\n",
      "(10000, 9)\n"
     ]
    }
   ],
   "source": [
    "#https://towardsdatascience.com/principal-component-analysis-pca-with-scikit-learn-1e84a0c731b0\n",
    "import numpy as np\n",
    "import pandas as pd\n",
    "from sklearn.decomposition import PCA\n",
    "\n",
    "cols_to_import = ['CreditScore', 'Age', 'Tenure', 'Balance', 'NumOfProducts', \n",
    "                  'HasCrCard', 'IsActiveMember', 'EstimatedSalary', 'Exited']\n",
    "data = pd.read_csv('./Churn Modeling.csv', usecols=cols_to_import)\n",
    "\n",
    "print(data.describe())\n",
    "print(data.info())\n",
    "print(data.shape)"
   ]
  },
  {
   "cell_type": "markdown",
   "id": "6be93f17",
   "metadata": {},
   "source": [
    "The first example seeks to lower the number of dimensions/features to three. Afterwards, I run some methods to provide further information about the results."
   ]
  },
  {
   "cell_type": "code",
   "execution_count": 2,
   "id": "d9d91f2c",
   "metadata": {},
   "outputs": [],
   "source": [
    "pca = PCA(n_components=3, whiten=True).fit(data)\n",
    "X_pca = pca.transform(data)"
   ]
  },
  {
   "cell_type": "code",
   "execution_count": 3,
   "id": "76243b48",
   "metadata": {},
   "outputs": [
    {
     "name": "stdout",
     "output_type": "stream",
     "text": [
      "[6242294.24576723 5747650.93431437    9664.64753335]\n"
     ]
    }
   ],
   "source": [
    "print(pca.singular_values_)"
   ]
  },
  {
   "cell_type": "code",
   "execution_count": 4,
   "id": "07c7801f",
   "metadata": {},
   "outputs": [
    {
     "name": "stdout",
     "output_type": "stream",
     "text": [
      "[5.41184038e-01 4.58814649e-01 1.29726454e-06]\n"
     ]
    }
   ],
   "source": [
    "print((pca.explained_variance_ratio_))"
   ]
  },
  {
   "cell_type": "code",
   "execution_count": 5,
   "id": "29ee813f",
   "metadata": {},
   "outputs": [
    {
     "name": "stdout",
     "output_type": "stream",
     "text": [
      "[3.89701345e+09 3.30387951e+09 9.34147534e+03]\n",
      "9\n"
     ]
    }
   ],
   "source": [
    "print((pca.explained_variance_))"
   ]
  },
  {
   "cell_type": "code",
   "execution_count": 6,
   "id": "bf81275b",
   "metadata": {},
   "outputs": [
    {
     "name": "stdout",
     "output_type": "stream",
     "text": [
      "[ 3.83629033e+06  2.39044713e+06 -3.56671634e+05  4.14161815e+11\n",
      " -1.23008086e+06 -2.14509000e+04 -3.73845086e+03 -2.99110729e+11\n",
      "  2.94462068e+05]\n"
     ]
    }
   ],
   "source": [
    "print(pca.inverse_transform(pca.singular_values_))"
   ]
  },
  {
   "cell_type": "code",
   "execution_count": 7,
   "id": "03b64daf",
   "metadata": {},
   "outputs": [
    {
     "name": "stdout",
     "output_type": "stream",
     "text": [
      "-69.35820238091982\n"
     ]
    }
   ],
   "source": [
    "print(pca.score(data))"
   ]
  },
  {
   "cell_type": "markdown",
   "id": "e8b6ca36",
   "metadata": {},
   "source": [
    "The second example seeks to lower the number of dimensions/features to the number needed to provide a 90% accuracy score. Afterwards, I run some methods to provide further information about the results."
   ]
  },
  {
   "cell_type": "code",
   "execution_count": 8,
   "id": "8374dadd",
   "metadata": {},
   "outputs": [],
   "source": [
    "pca2 = PCA(n_components=.9, whiten=True).fit(data)\n",
    "X_pca2 = pca.transform(data)"
   ]
  },
  {
   "cell_type": "code",
   "execution_count": 9,
   "id": "419dd74f",
   "metadata": {},
   "outputs": [
    {
     "name": "stdout",
     "output_type": "stream",
     "text": [
      "[6242294.24576723 5747650.93431437]\n"
     ]
    }
   ],
   "source": [
    "print(pca2.singular_values_)"
   ]
  },
  {
   "cell_type": "code",
   "execution_count": 10,
   "id": "ccea7559",
   "metadata": {},
   "outputs": [
    {
     "name": "stdout",
     "output_type": "stream",
     "text": [
      "[0.54118404 0.45881465]\n"
     ]
    }
   ],
   "source": [
    "print((pca2.explained_variance_ratio_))"
   ]
  }
 ],
 "metadata": {
  "kernelspec": {
   "display_name": "Python 3 (ipykernel)",
   "language": "python",
   "name": "python3"
  },
  "language_info": {
   "codemirror_mode": {
    "name": "ipython",
    "version": 3
   },
   "file_extension": ".py",
   "mimetype": "text/x-python",
   "name": "python",
   "nbconvert_exporter": "python",
   "pygments_lexer": "ipython3",
   "version": "3.7.7"
  }
 },
 "nbformat": 4,
 "nbformat_minor": 5
}
