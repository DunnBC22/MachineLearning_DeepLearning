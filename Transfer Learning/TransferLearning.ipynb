{
 "cells": [
  {
   "cell_type": "code",
   "execution_count": 1,
   "id": "90983243",
   "metadata": {},
   "outputs": [],
   "source": [
    "from IPython.display import Image"
   ]
  },
  {
   "cell_type": "code",
   "execution_count": 5,
   "id": "22d93e0a",
   "metadata": {},
   "outputs": [],
   "source": [
    "from tensorflow.keras.applications.resnet import ResNet50\n",
    "from tensorflow.keras.applications.resnet import preprocess_input, decode_predictions\n",
    "from tensorflow.keras.preprocessing import image\n",
    "import numpy as np"
   ]
  },
  {
   "cell_type": "code",
   "execution_count": 15,
   "id": "9dfd1d5b",
   "metadata": {},
   "outputs": [],
   "source": [
    "def classify(img_path):\n",
    "    img = image.load_img(img_path, target_size=(224,224))\n",
    "    x = image.img_to_array(img)\n",
    "    x = np.expand_dims(x, axis = 0)\n",
    "    x = preprocess_input(x)\n",
    "    prediction = model.predict(x)\n",
    "    print('Predicted: ',  decode_predictions(prediction, top = 3)[0])"
   ]
  },
  {
   "cell_type": "code",
   "execution_count": 16,
   "id": "1b5f04e5",
   "metadata": {},
   "outputs": [],
   "source": [
    "model = ResNet50(weights='imagenet')"
   ]
  },
  {
   "cell_type": "code",
   "execution_count": 17,
   "id": "a0bcf475",
   "metadata": {},
   "outputs": [
    {
     "name": "stdout",
     "output_type": "stream",
     "text": [
      "Predicted:  [('n03124170', 'cowboy_hat', 0.6691846), ('n04259630', 'sombrero', 0.2774176), ('n03124043', 'cowboy_boot', 0.015871814)]\n"
     ]
    }
   ],
   "source": [
    "classify('BrewerBratRacer.jpg')"
   ]
  },
  {
   "cell_type": "code",
   "execution_count": 18,
   "id": "ef85185a",
   "metadata": {},
   "outputs": [
    {
     "name": "stdout",
     "output_type": "stream",
     "text": [
      "Predicted:  [('n03443371', 'goblet', 0.574171), ('n03089624', 'confectionery', 0.13746895), ('n02966193', 'carousel', 0.07278751)]\n"
     ]
    }
   ],
   "source": [
    "classify('WynnFlowers.jpg')"
   ]
  },
  {
   "cell_type": "code",
   "execution_count": 19,
   "id": "eb522ca3",
   "metadata": {},
   "outputs": [
    {
     "name": "stdout",
     "output_type": "stream",
     "text": [
      "Predicted:  [('n02112018', 'Pomeranian', 0.6337524), ('n02364673', 'guinea_pig', 0.14773788), ('n02086079', 'Pekinese', 0.041478217)]\n"
     ]
    }
   ],
   "source": [
    "classify('PuppyPicture.jpg')"
   ]
  },
  {
   "cell_type": "code",
   "execution_count": 20,
   "id": "a96e7329",
   "metadata": {},
   "outputs": [
    {
     "name": "stdout",
     "output_type": "stream",
     "text": [
      "Predicted:  [('n04346328', 'stupa', 0.90309787), ('n09421951', 'sandbar', 0.012453245), ('n03837869', 'obelisk', 0.007671578)]\n"
     ]
    }
   ],
   "source": [
    "classify('Sphinx.jpg')"
   ]
  },
  {
   "cell_type": "code",
   "execution_count": 22,
   "id": "e114875c",
   "metadata": {},
   "outputs": [
    {
     "name": "stdout",
     "output_type": "stream",
     "text": [
      "Predicted:  [('n01704323', 'triceratops', 0.32787618), ('n03042490', 'cliff_dwelling', 0.3111869), ('n03743016', 'megalith', 0.040385477)]\n"
     ]
    }
   ],
   "source": [
    "classify('AdamMeCentaur.jpg')"
   ]
  },
  {
   "cell_type": "code",
   "execution_count": 23,
   "id": "0bc685b3",
   "metadata": {},
   "outputs": [
    {
     "name": "stdout",
     "output_type": "stream",
     "text": [
      "Predicted:  [('n03983396', 'pop_bottle', 0.16356634), ('n03425413', 'gas_pump', 0.1611663), ('n04458633', 'totem_pole', 0.12564686)]\n"
     ]
    }
   ],
   "source": [
    "classify('MarioAndLuigi.jpg')"
   ]
  },
  {
   "cell_type": "code",
   "execution_count": 24,
   "id": "00ee2c6d",
   "metadata": {},
   "outputs": [
    {
     "name": "stdout",
     "output_type": "stream",
     "text": [
      "Predicted:  [('n02676566', 'acoustic_guitar', 0.2920975), ('n02787622', 'banjo', 0.12708972), ('n03124170', 'cowboy_hat', 0.08025373)]\n"
     ]
    }
   ],
   "source": [
    "classify('MinionAndMe.jpg')"
   ]
  },
  {
   "cell_type": "code",
   "execution_count": 25,
   "id": "49550c6a",
   "metadata": {},
   "outputs": [
    {
     "name": "stdout",
     "output_type": "stream",
     "text": [
      "Predicted:  [('n04429376', 'throne', 0.4466981), ('n02699494', 'altar', 0.28391638), ('n03089624', 'confectionery', 0.06896215)]\n"
     ]
    }
   ],
   "source": [
    "classify('Popeye.jpg')"
   ]
  },
  {
   "cell_type": "code",
   "execution_count": 26,
   "id": "38bc595e",
   "metadata": {},
   "outputs": [
    {
     "name": "stdout",
     "output_type": "stream",
     "text": [
      "Predicted:  [('n03388043', 'fountain', 0.95896745), ('n02966193', 'carousel', 0.008892544), ('n03598930', 'jigsaw_puzzle', 0.0040938305)]\n"
     ]
    }
   ],
   "source": [
    "classify('hotairballoon.jpg')"
   ]
  },
  {
   "cell_type": "code",
   "execution_count": 27,
   "id": "78c7994c",
   "metadata": {},
   "outputs": [
    {
     "name": "stdout",
     "output_type": "stream",
     "text": [
      "Predicted:  [('n04429376', 'throne', 0.44232926), ('n04239074', 'sliding_door', 0.12782271), ('n04590129', 'window_shade', 0.07347006)]\n"
     ]
    }
   ],
   "source": [
    "classify('WynnWaterfall.jpg')"
   ]
  }
 ],
 "metadata": {
  "kernelspec": {
   "display_name": "Python 3 (ipykernel)",
   "language": "python",
   "name": "python3"
  },
  "language_info": {
   "codemirror_mode": {
    "name": "ipython",
    "version": 3
   },
   "file_extension": ".py",
   "mimetype": "text/x-python",
   "name": "python",
   "nbconvert_exporter": "python",
   "pygments_lexer": "ipython3",
   "version": "3.7.7"
  }
 },
 "nbformat": 4,
 "nbformat_minor": 5
}
